{
  "nbformat": 4,
  "nbformat_minor": 5,
  "metadata": {
    "kernelspec": {
      "display_name": "Python 3 (ipykernel)",
      "language": "python",
      "name": "python3"
    },
    "language_info": {
      "codemirror_mode": {
        "name": "ipython",
        "version": 3
      },
      "file_extension": ".py",
      "mimetype": "text/x-python",
      "name": "python",
      "nbconvert_exporter": "python",
      "pygments_lexer": "ipython3",
      "version": "3.7.11"
    },
    "colab": {
      "name": "HanProject_Final.ipynb",
      "provenance": [],
      "collapsed_sections": []
    }
  },
  "cells": [
    {
      "cell_type": "markdown",
      "metadata": {
        "id": "04eece6d"
      },
      "source": [
        "# *특징추출 함수들* #"
      ],
      "id": "04eece6d"
    },
    {
      "cell_type": "code",
      "metadata": {
        "id": "abdc6fa5"
      },
      "source": [
        "import math\n",
        "import pandas as pd\n",
        "import ssl\n",
        "import socket\n",
        "import whois\n",
        "import requests\n",
        "from tld import get_tld\n",
        "from urllib.parse import urlparse\n",
        "from dateutil.parser import parse"
      ],
      "id": "abdc6fa5",
      "execution_count": null,
      "outputs": []
    },
    {
      "cell_type": "code",
      "metadata": {
        "id": "aed86bdf"
      },
      "source": [
        "# 1번 Check_IPdomain    # 1: 정상 / 0: 의심 / -1: 피싱\n",
        "\n",
        "def Check_IPDomain(url):\n",
        "    try:\n",
        "        domain = urlparse(url).netloc\n",
        "        check = domain.split('.')\n",
        "        for i in check:\n",
        "            int(i, 0)\n",
        "        return -1\n",
        "    \n",
        "    except ValueError:\n",
        "        return 1\n",
        "\n",
        "    except:\n",
        "        return 0"
      ],
      "id": "aed86bdf",
      "execution_count": null,
      "outputs": []
    },
    {
      "cell_type": "code",
      "metadata": {
        "id": "93c85dbb"
      },
      "source": [
        "# 2번 Check_URLLength     # 1: 정상 / 0: 의심 / -1: 피싱\n",
        "\n",
        "def Check_URLLength(url):\n",
        "    if len(url) < 54 :\n",
        "        return 1\n",
        "    elif len(url) >= 54 and len(url) <= 75 :\n",
        "        return 0\n",
        "    else :\n",
        "        return -1"
      ],
      "id": "93c85dbb",
      "execution_count": null,
      "outputs": []
    },
    {
      "cell_type": "code",
      "metadata": {
        "id": "a58c5676"
      },
      "source": [
        "# 4번 Check_Symbol   # 1: 정상 / -1: 피싱\n",
        "\n",
        "def Check_Symbol(url):\n",
        "    if '@' in url:\n",
        "        return -1\n",
        "    else :\n",
        "        return 1"
      ],
      "id": "a58c5676",
      "execution_count": null,
      "outputs": []
    },
    {
      "cell_type": "code",
      "metadata": {
        "id": "730d3537"
      },
      "source": [
        "# 5번 Check_Subdomain # 1: 정상 / -1: 피싱\n",
        "\n",
        "def Check_SubDomain(url):\n",
        "    try:\n",
        "        reset_url = urlparse(url).netloc\n",
        "        res = get_tld(url, as_object = True)\n",
        "    except:\n",
        "        return -1\n",
        "    \n",
        "    fld = res.fld\n",
        "    sub = reset_url[:(-len(fld))]\n",
        "    sub_num = sub.count('.')\n",
        "    \n",
        "    if sub_num == 1:\n",
        "        return 1\n",
        "    else:\n",
        "        return -1"
      ],
      "id": "730d3537",
      "execution_count": null,
      "outputs": []
    },
    {
      "cell_type": "code",
      "metadata": {
        "id": "b9d026bb"
      },
      "source": [
        "#10번 Check_SpecialCharacters        # 1: 정상 / -1: 피싱\n",
        "\n",
        "def Check_SpecialCharacters(url):\n",
        "    if '&' in url:\n",
        "        return -1\n",
        "    elif '!' in url:\n",
        "        return -1\n",
        "    elif '=' in url:\n",
        "        return -1\n",
        "    else:\n",
        "        return 1"
      ],
      "id": "b9d026bb",
      "execution_count": null,
      "outputs": []
    },
    {
      "cell_type": "code",
      "metadata": {
        "id": "c47af8f1"
      },
      "source": [
        "#11번 Check_HostLength        # 1: 정상 / -1: 피싱\n",
        "\n",
        "def Check_HostLength(url):\n",
        "    try:\n",
        "        URL = get_tld(url, as_object = True)\n",
        "        if len(URL.fld) >22:\n",
        "            return -1\n",
        "        else:\n",
        "            return 1\n",
        "    except:\n",
        "        return -1"
      ],
      "id": "c47af8f1",
      "execution_count": null,
      "outputs": []
    },
    {
      "cell_type": "code",
      "metadata": {
        "id": "e4dcd69f"
      },
      "source": [
        "#12번 Check_SuspiciousWord        # 1: 정상 / -1: 피싱\n",
        "\n",
        "def Check_SuspiciousWord(url):\n",
        "    if 'signin' in url:\n",
        "        return -1\n",
        "    elif 'wp' in url:\n",
        "        return -1\n",
        "    elif 'update' in url:\n",
        "        return -1\n",
        "    elif 'login' in url:\n",
        "        return -1\n",
        "    elif 'admin' in url:\n",
        "        return -1\n",
        "    else:\n",
        "        return 1"
      ],
      "id": "e4dcd69f",
      "execution_count": null,
      "outputs": []
    },
    {
      "cell_type": "code",
      "metadata": {
        "id": "6ec6d44a"
      },
      "source": [
        "# 13번 Check_URLEntropy          # 1: 정상 / 0: 의심 / -1: 피싱\n",
        "\n",
        "def entropy_matrix(url):\n",
        "    try:\n",
        "        url_parse = urlparse(url)\n",
        "        url_split = url[len(url_parse.scheme):]\n",
        "    except:\n",
        "        return 0\n",
        "    \n",
        "    url_set = set(url_split)\n",
        "    per = 1/len(url_split)\n",
        "    percent = [url_split.count(i)*per for i in url_set]\n",
        "\n",
        "    entropy = [p*math.log(p) for p in percent]\n",
        "    entropy = -sum(entropy)\n",
        "    \n",
        "    return entropy\n",
        "\n",
        "def Check_URLEntropy(url):\n",
        "    if entropy_matrix(url) < 3.2:\n",
        "        return 1\n",
        "    else:\n",
        "        return -1"
      ],
      "id": "6ec6d44a",
      "execution_count": null,
      "outputs": []
    },
    {
      "cell_type": "code",
      "metadata": {
        "id": "ba2e4628"
      },
      "source": [
        "# 14번 Check_NumRatio           # 1: 정상 / 0: 의심 / -1: 피싱\n",
        "\n",
        "def NumRatio(url):\n",
        "    try:\n",
        "        url_parse = urlparse(url)\n",
        "        url_split = url[len(url_parse.scheme):]\n",
        "    except:\n",
        "        return 0\n",
        "    \n",
        "    url_list = list(url_split)\n",
        "    num = 0\n",
        "    for i in url_list:\n",
        "        try:\n",
        "            if type(int(i)) is int:\n",
        "                num += 1\n",
        "        except:\n",
        "            continue\n",
        "\n",
        "    return num/len(url_list)\n",
        "\n",
        "def Check_NumRatio(url):\n",
        "    if NumRatio(url) > 0.17:\n",
        "        return -1\n",
        "    else:\n",
        "        return 1"
      ],
      "id": "ba2e4628",
      "execution_count": null,
      "outputs": []
    },
    {
      "cell_type": "code",
      "metadata": {
        "id": "c3caef73"
      },
      "source": [
        "# 9번 Check_RegiLength     # 1: 정상 / 0: 의심 / -1: 피싱\n",
        "\n",
        "def Get_RegiLength(url):\n",
        "    domain_info = whois.whois(url)\n",
        "    if type(domain_info.expiration_date) == list :\n",
        "        expiration_date = domain_info.expiration_date[0]\n",
        "    else:\n",
        "        expiration_date = domain_info.expiration_date\n",
        "        \n",
        "    if type(domain_info.updated_date) == list :\n",
        "        updated_date = domain_info.updated_date[0]\n",
        "    else:\n",
        "        updated_date = domain_info.updated_date\n",
        "\n",
        "    if expiration_date == None or updated_date == None:\n",
        "        return 0\n",
        "    \n",
        "    RegiLength = (expiration_date - updated_date).days\n",
        "    return RegiLength\n",
        "\n",
        "def Check_RegiLength(url):\n",
        "    try :\n",
        "        RegiLength = Get_RegiLength(url)\n",
        "        if RegiLength <= 365 :\n",
        "            return -1\n",
        "        else:\n",
        "            return 1\n",
        "    except whois.parser.PywhoisError:\n",
        "        return -1\n",
        "    except:\n",
        "        return 0"
      ],
      "id": "c3caef73",
      "execution_count": null,
      "outputs": []
    },
    {
      "cell_type": "code",
      "metadata": {
        "id": "90165c68"
      },
      "source": [
        "# 6번 Check_SSLnOrg   # 1 : 정상 / 0 : 의심 / -1 : 피싱\n",
        "\n",
        " \n",
        "def https_connect(murl):\n",
        "    ctx = ssl.create_default_context()\n",
        "    s = ctx.wrap_socket(socket.socket(), server_hostname=murl)\n",
        "    s.settimeout(30.0)                                      # socket connect timeout 적정시간은?\n",
        "    s.connect((murl, 443))\n",
        "                                           \n",
        "    return s\n",
        "\n",
        "def Check_SSLnOrg(url):    \n",
        "    try:\n",
        "        murl = urlparse(url).netloc\n",
        "        s = https_connect(murl)\n",
        "    except:                       \n",
        "        return -1\n",
        "    cert = s.getpeercert()\n",
        "    issuer = dict(x[0] for x in cert['issuer'])\n",
        "    issued_by = issuer['organizationName']\n",
        "\n",
        "    data = pd.read_csv('./dataset/trust_organization.csv')\n",
        "    trust_orglist = data['0']\n",
        "\n",
        "    for trusted_issuer in trust_orglist:\n",
        "        if trusted_issuer == issued_by:\n",
        "            break\n",
        "    else :\n",
        "        return 0\n",
        " \n",
        "    notAfter = cert['notAfter']\n",
        "    notBefore = cert['notBefore']\n",
        "    init_date = parse(notBefore)\n",
        "    expiration_date = parse(notAfter)\n",
        "    total_days = (expiration_date.date() - init_date.date()).days\n",
        "    if total_days >= 365 :\n",
        "        return 1\n",
        "    else :\n",
        "        return 0"
      ],
      "id": "90165c68",
      "execution_count": null,
      "outputs": []
    },
    {
      "cell_type": "code",
      "metadata": {
        "id": "88485d1f"
      },
      "source": [
        "# 15번 Check_IsHttps           # 1: 정상 / 0: 의심 / -1: 피싱\n",
        "\n",
        "def Check_IsHttps(url):\n",
        "    scheme = urlparse(url).scheme\n",
        "    if scheme == 'https':\n",
        "        return 1\n",
        "    elif scheme == 'http':\n",
        "        return -1\n",
        "    else:\n",
        "        return 0"
      ],
      "id": "88485d1f",
      "execution_count": null,
      "outputs": []
    },
    {
      "cell_type": "code",
      "metadata": {
        "id": "8156fe5f"
      },
      "source": [
        "# 3번 Check_Shortening       # 1: 정상 / 0: 의심/ -1: 피싱\n",
        "\n",
        "def Check_Shortening(url):\n",
        "    try:\n",
        "        http_status = requests.get(url, timeout = 30).history  #read timout설정\n",
        "        for i in http_status:  \n",
        "            if i.status_code//100 == 3:\n",
        "                return -1\n",
        "            else:\n",
        "                return 1\n",
        "    except:\n",
        "        return 0"
      ],
      "id": "8156fe5f",
      "execution_count": null,
      "outputs": []
    },
    {
      "cell_type": "markdown",
      "metadata": {
        "id": "30118f8a"
      },
      "source": [
        "---"
      ],
      "id": "30118f8a"
    },
    {
      "cell_type": "markdown",
      "metadata": {
        "id": "60ca08f3"
      },
      "source": [
        "## *한번에 csv로 추출하기* ##"
      ],
      "id": "60ca08f3"
    },
    {
      "cell_type": "code",
      "metadata": {
        "id": "6101bb57"
      },
      "source": [
        "func = []\n",
        "func.append(Check_IPDomain)\n",
        "func.append(Check_URLLength)\n",
        "func.append(Check_Symbol)\n",
        "func.append(Check_SubDomain)   \n",
        "func.append(Check_SpecialCharacters)\n",
        "func.append(Check_HostLength)\n",
        "func.append(Check_SuspiciousWord)\n",
        "func.append(Check_URLEntropy)\n",
        "func.append(Check_NumRatio)\n",
        "func.append(Check_RegiLength)       \n",
        "func.append(Check_SSLnOrg)\n",
        "func.append(Check_IsHttps)\n",
        "func.append(Check_Shortening)       #\n",
        "\n",
        "func_name = ['Check_IPDomain', 'Check_URLLength', 'Check_Symbol', 'Check_SubDomain', 'Check_SpecialCharacters',\n",
        "             'Check_HostLength', 'Check_SuspiciousWord', 'Check_URLEntropy', 'Check_NumRatio', 'Check_RegiLength', \n",
        "             'Check_SSLnOrg', 'Check_IsHttps', 'Check_Shortening']"
      ],
      "id": "6101bb57",
      "execution_count": null,
      "outputs": []
    },
    {
      "cell_type": "code",
      "metadata": {
        "id": "5251240d",
        "outputId": "9738d18c-b033-437d-cef6-176f2df35a86"
      },
      "source": [
        "from tqdm import tqdm\n",
        "\n",
        "parsed = pd.DataFrame()\n",
        "\n",
        "data = pd.read_csv('./dataset/dataset.csv')\n",
        "url = data['url']\n",
        "label = data['label']\n",
        "\n",
        "parsed['url'] = url\n",
        "parsed['label'] = label\n",
        "\n",
        "for i in range(len(func)):\n",
        "    extracted = []\n",
        "    for j in tqdm(range(len(url))):\n",
        "        extracted.append(func[i](url[j]))\n",
        "    \n",
        "    parsed[func_name[i]] = extracted\n",
        "    parsed.to_csv('parsed_dataset.csv', index = False)"
      ],
      "id": "5251240d",
      "execution_count": null,
      "outputs": [
        {
          "output_type": "stream",
          "text": [
            "100%|█████████████████████████████████████████████████████████████████████████| 21430/21430 [00:00<00:00, 93603.94it/s]\n",
            "100%|████████████████████████████████████████████████████████████████████████| 21430/21430 [00:00<00:00, 397919.01it/s]\n",
            "  2%|█▎                                                                          | 359/21430 [19:24<4:11:44,  1.39it/s]"
          ],
          "name": "stderr"
        }
      ]
    },
    {
      "cell_type": "markdown",
      "metadata": {
        "id": "bc4661b3"
      },
      "source": [
        "---"
      ],
      "id": "bc4661b3"
    },
    {
      "cell_type": "markdown",
      "metadata": {
        "id": "9db107f2"
      },
      "source": [
        "## *하나씩 csv로 추출하기* ##"
      ],
      "id": "9db107f2"
    },
    {
      "cell_type": "code",
      "metadata": {
        "id": "f63c5310",
        "outputId": "86c4f387-3645-433f-85b3-3fe22495a593"
      },
      "source": [
        "from tqdm import tqdm\n",
        "\n",
        "data = pd.read_csv('./dataset/dataset.csv')\n",
        "url = data['url']\n",
        "label = data['label']\n",
        "\n",
        "parsed_data = pd.read_csv('parsed_dataset.csv')\n",
        "parsed_data['url'] = url\n",
        "parsed_data['label'] = label\n",
        "\n",
        "func = Check_Shortening\n",
        "func_name = 'Check_Shortening'\n",
        "extracted = []\n",
        "\n",
        "for i in tqdm(range(len(url))):\n",
        "    extracted.append(func(url[i]))\n",
        "\n",
        "parsed_data[func_name] = extracted\n",
        "parsed_data.to_csv('parsed_dataset.csv', index = False)"
      ],
      "id": "f63c5310",
      "execution_count": null,
      "outputs": [
        {
          "output_type": "stream",
          "text": [
            "100%|█████████████████████████████████████████████████████████████████████████| 21430/21430 [00:00<00:00, 47907.28it/s]\n"
          ],
          "name": "stderr"
        }
      ]
    },
    {
      "cell_type": "markdown",
      "metadata": {
        "id": "233afcf9"
      },
      "source": [
        "---"
      ],
      "id": "233afcf9"
    },
    {
      "cell_type": "markdown",
      "metadata": {
        "id": "3bdc25ed"
      },
      "source": [
        "# 머신러닝 #"
      ],
      "id": "3bdc25ed"
    },
    {
      "cell_type": "code",
      "metadata": {
        "id": "982cfd65"
      },
      "source": [
        ""
      ],
      "id": "982cfd65",
      "execution_count": null,
      "outputs": []
    },
    {
      "cell_type": "code",
      "metadata": {
        "id": "6100f35e"
      },
      "source": [
        ""
      ],
      "id": "6100f35e",
      "execution_count": null,
      "outputs": []
    },
    {
      "cell_type": "code",
      "metadata": {
        "id": "68dd06f6"
      },
      "source": [
        ""
      ],
      "id": "68dd06f6",
      "execution_count": null,
      "outputs": []
    },
    {
      "cell_type": "code",
      "metadata": {
        "id": "e7070ac7"
      },
      "source": [
        ""
      ],
      "id": "e7070ac7",
      "execution_count": null,
      "outputs": []
    },
    {
      "cell_type": "code",
      "metadata": {
        "id": "c3fd5db4"
      },
      "source": [
        ""
      ],
      "id": "c3fd5db4",
      "execution_count": null,
      "outputs": []
    },
    {
      "cell_type": "markdown",
      "metadata": {
        "id": "3987f0e1"
      },
      "source": [
        "---"
      ],
      "id": "3987f0e1"
    },
    {
      "cell_type": "markdown",
      "metadata": {
        "id": "c643559c"
      },
      "source": [
        "# Google Extension #"
      ],
      "id": "c643559c"
    },
    {
      "cell_type": "markdown",
      "metadata": {
        "id": "e8590060"
      },
      "source": [
        "### 1. 받은 URL을 특징별로 분류하기 ###"
      ],
      "id": "e8590060"
    },
    {
      "cell_type": "code",
      "metadata": {
        "id": "1a9a0498"
      },
      "source": [
        "def parse_url(url):\n",
        "    func = []\n",
        "    func.append(Check_IPDomain)\n",
        "    func.append(Check_URLLength)\n",
        "    func.append(Check_Symbol)\n",
        "    func.append(Check_SubDomain)   \n",
        "    func.append(Check_SpecialCharacters)\n",
        "    func.append(Check_HostLength)\n",
        "    func.append(Check_SuspiciousWord)\n",
        "    func.append(Check_URLEntropy)\n",
        "    func.append(Check_NumRatio)\n",
        "    func.append(Check_RegiLength)\n",
        "    func.append(Check_SSLnOrg)          #\n",
        "    func.append(Check_Shortening)       #\n",
        "# 여기에 새로운 특징분류 함수 추가 \n",
        "\n",
        "    parse = []\n",
        "    for i in range(len(func)):\n",
        "        try:\n",
        "            parse.append(func[i](url))\n",
        "        except:\n",
        "            parse.append(0)\n",
        "\n",
        "    return parse"
      ],
      "id": "1a9a0498",
      "execution_count": null,
      "outputs": []
    },
    {
      "cell_type": "markdown",
      "metadata": {
        "id": "115d3850"
      },
      "source": [
        "### 2. 학습한 머신러닝 알고리즘으로 결과 추측하기 ###"
      ],
      "id": "115d3850"
    },
    {
      "cell_type": "code",
      "metadata": {
        "id": "353a8688"
      },
      "source": [
        ""
      ],
      "id": "353a8688",
      "execution_count": null,
      "outputs": []
    },
    {
      "cell_type": "code",
      "metadata": {
        "id": "f52a4720"
      },
      "source": [
        ""
      ],
      "id": "f52a4720",
      "execution_count": null,
      "outputs": []
    },
    {
      "cell_type": "code",
      "metadata": {
        "id": "d00dfb65"
      },
      "source": [
        ""
      ],
      "id": "d00dfb65",
      "execution_count": null,
      "outputs": []
    },
    {
      "cell_type": "code",
      "metadata": {
        "id": "5e6f684e"
      },
      "source": [
        ""
      ],
      "id": "5e6f684e",
      "execution_count": null,
      "outputs": []
    },
    {
      "cell_type": "code",
      "metadata": {
        "id": "52bc0da9"
      },
      "source": [
        ""
      ],
      "id": "52bc0da9",
      "execution_count": null,
      "outputs": []
    },
    {
      "cell_type": "code",
      "metadata": {
        "id": "9a04caef"
      },
      "source": [
        ""
      ],
      "id": "9a04caef",
      "execution_count": null,
      "outputs": []
    }
  ]
}